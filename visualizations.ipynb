{
 "cells": [
  {
   "cell_type": "markdown",
   "metadata": {},
   "source": [
    "# MSDS 7331 - Data Mining"
   ]
  },
  {
   "cell_type": "markdown",
   "metadata": {},
   "source": [
    "# Assignment 1 - Kickstarter Project Prediction"
   ]
  },
  {
   "cell_type": "markdown",
   "metadata": {},
   "source": [
    "by: Evangelos Giakoumakis"
   ]
  },
  {
   "cell_type": "markdown",
   "metadata": {},
   "source": [
    "## Business Understanding - Describe the purpose of the data set you selected:"
   ]
  },
  {
   "cell_type": "markdown",
   "metadata": {},
   "source": [
    "Kickstarter is an American public-benefit corporation based in Brooklyn, New York, that maintains a global crowdfunding platform focused on creativity.The company's stated mission is to \"help bring creative projects to life.\"\n",
    "\n",
    "It helps people for gathering money from the public, circumvents traditional avenues of investment. Project creators choose a deadline and a minimum funding goal. If the goal is not met by the deadline, no funds are collected (a kind of assurance contract). The platform is open to backers from anywhere in the world.\n",
    "\n",
    "Kickstarter applies a 5% fee on the total amount of the funds raised. Unlike many forums for fundraising or investment, Kickstarter claims no ownership over the projects and the work they produce. The web pages of projects launched on the site are permanently archived and accessible to the public.\n",
    "\n",
    "There is no guarantee that people who post projects on Kickstarter will deliver on their projects, use the money to implement their projects, or that the completed projects will meet backers' expectations. That is the purpoe of this project. Use our analytical skills to predict if a project will be a success or a failure.\n"
   ]
  },
  {
   "cell_type": "markdown",
   "metadata": {},
   "source": [
    "## Data Understanding - Describe the meaning and type of data for each attribute in the data file:"
   ]
  },
  {
   "cell_type": "markdown",
   "metadata": {},
   "source": [
    "Our dataset can be found at: https://www.kaggle.com/kemical/kickstarter-projects/data\n",
    "There are a total of 17 attributes with a total of 323,750 rows. Some of the attributes had no description or missed over 95% of their data so we decided to remove them. A few entries were not formatted correctly so a decision was made to remove them as well. In the end we ended up with 13 usable variables and 319,510 entries. \n",
    "\n",
    "Below is a list of all fields, their type and a short description:\n",
    "\n",
    "Attribute           Data Type          Description \n",
    "ID                   Integer            Unique Identification number of each project.\n",
    "Name                 String             Name of project.\n",
    "Category             String             Category in which project falls in to.\n",
    "Main_Category        String             Generalized category in which project falls in to.\n",
    "Currency             String             Type of currency the project is backed up with.\n",
    "Deadline            Datetime            Date and Time the project or milestone should be completed by.\n",
    "Goal                 Numeric            Total money the project needs for it to be developed.\n",
    "Launched            Datetime            Date and Time the project was launched.\n",
    "Pledged              Numeric            Total money backers have pledged for each project.\n",
    "State                String             State of each project.\n",
    "Backers              Numeric            Number of people backing up each project.\n",
    "Country              String             Country of origin of each project.\n",
    "USD_Pledged          Numeric            Total money backers have pledged for each project in USD.\n",
    "\n",
    "Excel was used to format dataset prior to entry to jupyter notebook due to bad condition it was in. \n",
    "Entries with missing values were removed since our set contains so many records.\n",
    "\n",
    "Difference between Category and main_category is that the later is a standardized version of the first containing less categories.\n",
    "\n",
    "Difference between Pledged and USD_Pledged is that the later is money pledged converted in US Dollars where as the first is money in its original state (depending on location of project.)\n"
   ]
  },
  {
   "cell_type": "markdown",
   "metadata": {},
   "source": [
    "## Verify Data Quality:"
   ]
  },
  {
   "cell_type": "markdown",
   "metadata": {},
   "source": [
    "As mentioned above, there were many missing values in ou dataset. Additionally there were many format errors. All of the above were removed. No duplicates were found and no outliers were detected in our dataset.  "
   ]
  },
  {
   "cell_type": "code",
   "execution_count": null,
   "metadata": {
    "collapsed": true
   },
   "outputs": [],
   "source": [
    "# get working directory\n",
    "import os\n",
    "cwd = os.getcwd()\n",
    "cwd"
   ]
  },
  {
   "cell_type": "code",
   "execution_count": 36,
   "metadata": {},
   "outputs": [],
   "source": [
    "# load libraries\n",
    "import pandas as pd\n",
    "import numpy as np\n",
    "    \n",
    "#load the dataset\n",
    "df = pd.read_csv('dataset/ks-projects-201612-cleaned.csv',  sep = ',')    "
   ]
  },
  {
   "cell_type": "code",
   "execution_count": 37,
   "metadata": {},
   "outputs": [
    {
     "name": "stdout",
     "output_type": "stream",
     "text": [
      "   uniqueId                                              name   \\\n",
      "0      5971              An American Apocalypse: The Reckoning   \n",
      "1     18520                                 Grandma's are Life   \n",
      "2     21109                                               Meta   \n",
      "3     21371                                  Water Powered Car   \n",
      "4     24380  Puss N' Books: A relaxing cat cafe and bookstore.   \n",
      "\n",
      "         category  main_category  currency          deadline     goal   \\\n",
      "0           Comics         Comics       USD    8/6/2012 20:00  48000.0   \n",
      "1      World Music          Music       USD  11/18/2016 15:32  15000.0   \n",
      "2  Performance Art            Art       GBP    5/6/2015 23:00    150.0   \n",
      "3       Technology     Technology       USD   8/10/2016 19:02  75000.0   \n",
      "4           Spaces           Food       USD  11/26/2015 17:25  20000.0   \n",
      "\n",
      "          launched   pledged       state   backers  country   \n",
      "0    6/8/2012 18:46     376.0      failed         7       US  \n",
      "1  10/19/2016 15:32      62.0      failed         4       US  \n",
      "2     4/8/2015 0:37     173.0  successful        11       GB  \n",
      "3   7/26/2016 19:02     120.0      failed         4       US  \n",
      "4  10/27/2015 16:25     776.0      failed        18       US  \n"
     ]
    }
   ],
   "source": [
    "# display first 5 rows of dataset\n",
    "print (df.head())"
   ]
  },
  {
   "cell_type": "code",
   "execution_count": 38,
   "metadata": {},
   "outputs": [
    {
     "name": "stdout",
     "output_type": "stream",
     "text": [
      "<class 'pandas.core.frame.DataFrame'>\n",
      "RangeIndex: 319556 entries, 0 to 319555\n",
      "Data columns (total 12 columns):\n",
      "uniqueId          319556 non-null int64\n",
      "name              319554 non-null object\n",
      "category          319556 non-null object\n",
      "main_category     319556 non-null object\n",
      "currency          319556 non-null object\n",
      "deadline          319556 non-null object\n",
      "goal              319556 non-null float64\n",
      "launched          319556 non-null object\n",
      "pledged           319556 non-null float64\n",
      "state             319556 non-null object\n",
      "backers           319556 non-null int64\n",
      "country           319556 non-null object\n",
      "dtypes: float64(2), int64(2), object(8)\n",
      "memory usage: 29.3+ MB\n",
      "None\n"
     ]
    }
   ],
   "source": [
    "# display general info of dataset \n",
    "print (df.info())"
   ]
  },
  {
   "cell_type": "code",
   "execution_count": 39,
   "metadata": {},
   "outputs": [
    {
     "name": "stdout",
     "output_type": "stream",
     "text": [
      "uniqueId            int64\n",
      "name               object\n",
      "category           object\n",
      "main_category      object\n",
      "currency           object\n",
      "deadline           object\n",
      "goal              float64\n",
      "launched           object\n",
      "pledged           float64\n",
      "state              object\n",
      "backers             int64\n",
      "country            object\n",
      "dtype: object\n"
     ]
    }
   ],
   "source": [
    "# display attributes and their types\n",
    "print (df.dtypes)"
   ]
  },
  {
   "cell_type": "markdown",
   "metadata": {},
   "source": [
    "## Summary Statistics:"
   ]
  },
  {
   "cell_type": "code",
   "execution_count": 40,
   "metadata": {},
   "outputs": [
    {
     "data": {
      "text/html": [
       "<div>\n",
       "<style>\n",
       "    .dataframe thead tr:only-child th {\n",
       "        text-align: right;\n",
       "    }\n",
       "\n",
       "    .dataframe thead th {\n",
       "        text-align: left;\n",
       "    }\n",
       "\n",
       "    .dataframe tbody tr th {\n",
       "        vertical-align: top;\n",
       "    }\n",
       "</style>\n",
       "<table border=\"1\" class=\"dataframe\">\n",
       "  <thead>\n",
       "    <tr style=\"text-align: right;\">\n",
       "      <th></th>\n",
       "      <th>uniqueId</th>\n",
       "      <th>goal</th>\n",
       "      <th>pledged</th>\n",
       "      <th>backers</th>\n",
       "    </tr>\n",
       "  </thead>\n",
       "  <tbody>\n",
       "    <tr>\n",
       "      <th>count</th>\n",
       "      <td>3.195560e+05</td>\n",
       "      <td>3.195560e+05</td>\n",
       "      <td>3.195560e+05</td>\n",
       "      <td>319556.000000</td>\n",
       "    </tr>\n",
       "    <tr>\n",
       "      <th>mean</th>\n",
       "      <td>1.074799e+09</td>\n",
       "      <td>4.762898e+04</td>\n",
       "      <td>8.768322e+03</td>\n",
       "      <td>102.767775</td>\n",
       "    </tr>\n",
       "    <tr>\n",
       "      <th>std</th>\n",
       "      <td>6.193688e+08</td>\n",
       "      <td>1.145902e+06</td>\n",
       "      <td>9.008106e+04</td>\n",
       "      <td>940.051571</td>\n",
       "    </tr>\n",
       "    <tr>\n",
       "      <th>min</th>\n",
       "      <td>5.971000e+03</td>\n",
       "      <td>1.000000e-02</td>\n",
       "      <td>0.000000e+00</td>\n",
       "      <td>0.000000</td>\n",
       "    </tr>\n",
       "    <tr>\n",
       "      <th>25%</th>\n",
       "      <td>5.374245e+08</td>\n",
       "      <td>2.000000e+03</td>\n",
       "      <td>3.000000e+01</td>\n",
       "      <td>2.000000</td>\n",
       "    </tr>\n",
       "    <tr>\n",
       "      <th>50%</th>\n",
       "      <td>1.075709e+09</td>\n",
       "      <td>5.000000e+03</td>\n",
       "      <td>6.100000e+02</td>\n",
       "      <td>12.000000</td>\n",
       "    </tr>\n",
       "    <tr>\n",
       "      <th>75%</th>\n",
       "      <td>1.611023e+09</td>\n",
       "      <td>1.500000e+04</td>\n",
       "      <td>3.940000e+03</td>\n",
       "      <td>55.000000</td>\n",
       "    </tr>\n",
       "    <tr>\n",
       "      <th>max</th>\n",
       "      <td>2.147476e+09</td>\n",
       "      <td>1.000000e+08</td>\n",
       "      <td>2.033899e+07</td>\n",
       "      <td>219382.000000</td>\n",
       "    </tr>\n",
       "  </tbody>\n",
       "</table>\n",
       "</div>"
      ],
      "text/plain": [
       "           uniqueId         goal       pledged        backers \n",
       "count  3.195560e+05  3.195560e+05  3.195560e+05  319556.000000\n",
       "mean   1.074799e+09  4.762898e+04  8.768322e+03     102.767775\n",
       "std    6.193688e+08  1.145902e+06  9.008106e+04     940.051571\n",
       "min    5.971000e+03  1.000000e-02  0.000000e+00       0.000000\n",
       "25%    5.374245e+08  2.000000e+03  3.000000e+01       2.000000\n",
       "50%    1.075709e+09  5.000000e+03  6.100000e+02      12.000000\n",
       "75%    1.611023e+09  1.500000e+04  3.940000e+03      55.000000\n",
       "max    2.147476e+09  1.000000e+08  2.033899e+07  219382.000000"
      ]
     },
     "execution_count": 40,
     "metadata": {},
     "output_type": "execute_result"
    }
   ],
   "source": [
    "# show 5 number summary for numeric attributes\n",
    "df.describe()"
   ]
  },
  {
   "cell_type": "markdown",
   "metadata": {
    "collapsed": true
   },
   "source": [
    "## Visualize Interesting Attributes:"
   ]
  },
  {
   "cell_type": "code",
   "execution_count": 41,
   "metadata": {},
   "outputs": [
    {
     "name": "stdout",
     "output_type": "stream",
     "text": [
      "<class 'pandas.core.frame.DataFrame'>\n",
      "RangeIndex: 319556 entries, 0 to 319555\n",
      "Data columns (total 13 columns):\n",
      "uniqueId          319556 non-null int64\n",
      "name              319554 non-null object\n",
      "category          319556 non-null object\n",
      "main_category     319556 non-null object\n",
      "currency          319556 non-null object\n",
      "deadline          319556 non-null object\n",
      "goal              319556 non-null float64\n",
      "launched          319556 non-null object\n",
      "pledged           319556 non-null float64\n",
      "state             319556 non-null object\n",
      "backers           319556 non-null int64\n",
      "country           319556 non-null object\n",
      "bl_states         319556 non-null bool\n",
      "dtypes: bool(1), float64(2), int64(2), object(8)\n",
      "memory usage: 29.6+ MB\n"
     ]
    },
    {
     "data": {
      "text/html": [
       "<div>\n",
       "<style>\n",
       "    .dataframe thead tr:only-child th {\n",
       "        text-align: right;\n",
       "    }\n",
       "\n",
       "    .dataframe thead th {\n",
       "        text-align: left;\n",
       "    }\n",
       "\n",
       "    .dataframe tbody tr th {\n",
       "        vertical-align: top;\n",
       "    }\n",
       "</style>\n",
       "<table border=\"1\" class=\"dataframe\">\n",
       "  <thead>\n",
       "    <tr style=\"text-align: right;\">\n",
       "      <th></th>\n",
       "      <th>uniqueId</th>\n",
       "      <th>name</th>\n",
       "      <th>category</th>\n",
       "      <th>main_category</th>\n",
       "      <th>currency</th>\n",
       "      <th>deadline</th>\n",
       "      <th>goal</th>\n",
       "      <th>launched</th>\n",
       "      <th>pledged</th>\n",
       "      <th>state</th>\n",
       "      <th>backers</th>\n",
       "      <th>country</th>\n",
       "      <th>bl_states</th>\n",
       "    </tr>\n",
       "  </thead>\n",
       "  <tbody>\n",
       "    <tr>\n",
       "      <th>0</th>\n",
       "      <td>5971</td>\n",
       "      <td>An American Apocalypse: The Reckoning</td>\n",
       "      <td>Comics</td>\n",
       "      <td>Comics</td>\n",
       "      <td>USD</td>\n",
       "      <td>8/6/2012 20:00</td>\n",
       "      <td>48000.0</td>\n",
       "      <td>6/8/2012 18:46</td>\n",
       "      <td>376.0</td>\n",
       "      <td>failed</td>\n",
       "      <td>7</td>\n",
       "      <td>US</td>\n",
       "      <td>False</td>\n",
       "    </tr>\n",
       "    <tr>\n",
       "      <th>1</th>\n",
       "      <td>18520</td>\n",
       "      <td>Grandma's are Life</td>\n",
       "      <td>World Music</td>\n",
       "      <td>Music</td>\n",
       "      <td>USD</td>\n",
       "      <td>11/18/2016 15:32</td>\n",
       "      <td>15000.0</td>\n",
       "      <td>10/19/2016 15:32</td>\n",
       "      <td>62.0</td>\n",
       "      <td>failed</td>\n",
       "      <td>4</td>\n",
       "      <td>US</td>\n",
       "      <td>False</td>\n",
       "    </tr>\n",
       "    <tr>\n",
       "      <th>2</th>\n",
       "      <td>21109</td>\n",
       "      <td>Meta</td>\n",
       "      <td>Performance Art</td>\n",
       "      <td>Art</td>\n",
       "      <td>GBP</td>\n",
       "      <td>5/6/2015 23:00</td>\n",
       "      <td>150.0</td>\n",
       "      <td>4/8/2015 0:37</td>\n",
       "      <td>173.0</td>\n",
       "      <td>successful</td>\n",
       "      <td>11</td>\n",
       "      <td>GB</td>\n",
       "      <td>True</td>\n",
       "    </tr>\n",
       "    <tr>\n",
       "      <th>3</th>\n",
       "      <td>21371</td>\n",
       "      <td>Water Powered Car</td>\n",
       "      <td>Technology</td>\n",
       "      <td>Technology</td>\n",
       "      <td>USD</td>\n",
       "      <td>8/10/2016 19:02</td>\n",
       "      <td>75000.0</td>\n",
       "      <td>7/26/2016 19:02</td>\n",
       "      <td>120.0</td>\n",
       "      <td>failed</td>\n",
       "      <td>4</td>\n",
       "      <td>US</td>\n",
       "      <td>False</td>\n",
       "    </tr>\n",
       "    <tr>\n",
       "      <th>4</th>\n",
       "      <td>24380</td>\n",
       "      <td>Puss N' Books: A relaxing cat cafe and bookstore.</td>\n",
       "      <td>Spaces</td>\n",
       "      <td>Food</td>\n",
       "      <td>USD</td>\n",
       "      <td>11/26/2015 17:25</td>\n",
       "      <td>20000.0</td>\n",
       "      <td>10/27/2015 16:25</td>\n",
       "      <td>776.0</td>\n",
       "      <td>failed</td>\n",
       "      <td>18</td>\n",
       "      <td>US</td>\n",
       "      <td>False</td>\n",
       "    </tr>\n",
       "  </tbody>\n",
       "</table>\n",
       "</div>"
      ],
      "text/plain": [
       "   uniqueId                                              name   \\\n",
       "0      5971              An American Apocalypse: The Reckoning   \n",
       "1     18520                                 Grandma's are Life   \n",
       "2     21109                                               Meta   \n",
       "3     21371                                  Water Powered Car   \n",
       "4     24380  Puss N' Books: A relaxing cat cafe and bookstore.   \n",
       "\n",
       "         category  main_category  currency          deadline     goal   \\\n",
       "0           Comics         Comics       USD    8/6/2012 20:00  48000.0   \n",
       "1      World Music          Music       USD  11/18/2016 15:32  15000.0   \n",
       "2  Performance Art            Art       GBP    5/6/2015 23:00    150.0   \n",
       "3       Technology     Technology       USD   8/10/2016 19:02  75000.0   \n",
       "4           Spaces           Food       USD  11/26/2015 17:25  20000.0   \n",
       "\n",
       "          launched   pledged       state   backers  country   bl_states  \n",
       "0    6/8/2012 18:46     376.0      failed         7       US      False  \n",
       "1  10/19/2016 15:32      62.0      failed         4       US      False  \n",
       "2     4/8/2015 0:37     173.0  successful        11       GB       True  \n",
       "3   7/26/2016 19:02     120.0      failed         4       US      False  \n",
       "4  10/27/2015 16:25     776.0      failed        18       US      False  "
      ]
     },
     "execution_count": 41,
     "metadata": {},
     "output_type": "execute_result"
    }
   ],
   "source": [
    "# load libraries\n",
    "import numpy as np\n",
    "import copy\n",
    "\n",
    "# create state boolean so we can see the percentage of success/failures\n",
    "df['bl_states'] = df['state ']\n",
    "df['bl_states'] = df['bl_states'].replace(to_replace='failed',value=False)\n",
    "df['bl_states'] = df['bl_states'].replace(to_replace='canceled',value=False)\n",
    "df['bl_states'] = df['bl_states'].replace(to_replace='suspended',value=False)\n",
    "df['bl_states'] = df['bl_states'].replace(to_replace='successful',value=True)\n",
    "df['bl_states'] = df['bl_states'].replace(to_replace='live',value=True)\n",
    "\n",
    "df.info()\n",
    "df.head()"
   ]
  },
  {
   "cell_type": "code",
   "execution_count": 42,
   "metadata": {
    "collapsed": true
   },
   "outputs": [],
   "source": [
    "#looking at projects based upon state of success\n",
    "bl_states_list = df.groupby('bl_states').count()\n",
    "del bl_states_list['name ']\n",
    "del bl_states_list['category ']\n",
    "del bl_states_list['main_category ']\n",
    "del bl_states_list['deadline ']\n",
    "del bl_states_list['currency ']\n",
    "del bl_states_list['goal ']\n",
    "del bl_states_list['launched ']\n",
    "del bl_states_list['pledged ']\n",
    "del bl_states_list['backers ']\n",
    "del bl_states_list['country ']\n",
    "del bl_states_list['state ']"
   ]
  },
  {
   "cell_type": "code",
   "execution_count": 57,
   "metadata": {},
   "outputs": [
    {
     "data": {
      "text/plain": [
       "<matplotlib.figure.Figure at 0x7f657492bb50>"
      ]
     },
     "metadata": {},
     "output_type": "display_data"
    },
    {
     "data": {
      "image/png": "[encoded data removed]",
      "text/plain": [
       "<matplotlib.figure.Figure at 0x7f6574bc8f50>"
      ]
     },
     "metadata": {},
     "output_type": "display_data"
    }
   ],
   "source": [
    "# plot simple success\n",
    "import matplotlib.pyplot as plt\n",
    "import warnings\n",
    "\n",
    "warnings.simplefilter('ignore', DeprecationWarning)\n",
    "%matplotlib inline\n",
    "\n",
    "plt.figure(); \n",
    "bl_states_list.plot(kind='barh', color='r');"
   ]
  },
  {
   "cell_type": "code",
   "execution_count": 46,
   "metadata": {
    "collapsed": true
   },
   "outputs": [],
   "source": [
    "#looking at frequency of projects by currency\n",
    "currency_list = df.groupby('currency ').count()\n",
    "del currency_list['name ']\n",
    "del currency_list['category ']\n",
    "del currency_list['main_category ']\n",
    "del currency_list['deadline ']\n",
    "del currency_list['goal ']\n",
    "del currency_list['launched ']\n",
    "del currency_list['pledged ']\n",
    "del currency_list['state ']\n",
    "del currency_list['backers ']\n",
    "del currency_list['country ']\n",
    "del currency_list['bl_states']"
   ]
  },
  {
   "cell_type": "code",
   "execution_count": 47,
   "metadata": {},
   "outputs": [
    {
     "data": {
      "text/plain": [
       "<matplotlib.axes._subplots.AxesSubplot at 0x7f657438d1d0>"
      ]
     },
     "execution_count": 47,
     "metadata": {},
     "output_type": "execute_result"
    },
    {
     "data": {
      "text/plain": [
       "<matplotlib.figure.Figure at 0x7f6574357fd0>"
      ]
     },
     "metadata": {},
     "output_type": "display_data"
    },
    {
     "data": {
      "image/png": "[encoded data removed]",
      "text/plain": [
       "<matplotlib.figure.Figure at 0x7f6568e39f10>"
      ]
     },
     "metadata": {},
     "output_type": "display_data"
    }
   ],
   "source": [
    "plt.figure(); \n",
    "currency_list.plot(kind='bar')"
   ]
  },
  {
   "cell_type": "markdown",
   "metadata": {},
   "source": [
    "The 'currency' variable is interesting because it provides insight into the geographic distribution of Kickstarter projects. We found it more useful to look at this before the country variable because currency combines most of Europe into a single unit thus reducing the number of elements. Ultimately, the visualization implies that Kickstarter is dominated by English-speaking countries as four out of the top five currencies are from said nations (US, UK, Canada, and Australia). However, it should be noted that since the US dollar is used extensively internationally, it is worth examining the 'country' variable to see if the US is overrepresented in this visualization. "
   ]
  },
  {
   "cell_type": "code",
   "execution_count": 48,
   "metadata": {
    "collapsed": true
   },
   "outputs": [],
   "source": [
    "#looking at frequency of projects by country\n",
    "country_list = df.groupby('country ').count()\n",
    "del country_list['name ']\n",
    "del country_list['category ']\n",
    "del country_list['main_category ']\n",
    "del country_list['deadline ']\n",
    "del country_list['goal ']\n",
    "del country_list['launched ']\n",
    "del country_list['pledged ']\n",
    "del country_list['state ']\n",
    "del country_list['backers ']\n",
    "del country_list['currency ']\n",
    "del country_list['bl_states']"
   ]
  },
  {
   "cell_type": "code",
   "execution_count": 49,
   "metadata": {},
   "outputs": [
    {
     "data": {
      "text/plain": [
       "<matplotlib.axes._subplots.AxesSubplot at 0x7f6571614fd0>"
      ]
     },
     "execution_count": 49,
     "metadata": {},
     "output_type": "execute_result"
    },
    {
     "data": {
      "text/plain": [
       "<matplotlib.figure.Figure at 0x7f657156d410>"
      ]
     },
     "metadata": {},
     "output_type": "display_data"
    },
    {
     "data": {
      "image/png": "[encoded data removed]",
      "text/plain": [
       "<matplotlib.figure.Figure at 0x7f657156d4d0>"
      ]
     },
     "metadata": {},
     "output_type": "display_data"
    }
   ],
   "source": [
    "plt.figure(); \n",
    "country_list.plot(kind='bar')"
   ]
  },
  {
   "cell_type": "markdown",
   "metadata": {},
   "source": [
    "This visualization provides further evidence in support of the results from the previous graph - Kickstarter projects are dominated by the English-speaking countries. However, it is important to note that this is only the case for the countries present in the dataset. We do not know why some countries were selected and others were not.\n",
    "\n",
    "Regarding the US dollar's international appeal having a possible effect, there does not appear to be a significant difference when looking at number of projects by currency vs. country. "
   ]
  },
  {
   "cell_type": "code",
   "execution_count": 50,
   "metadata": {
    "collapsed": true
   },
   "outputs": [],
   "source": [
    "#looking at the main categories for the projects\n",
    "category_list = df.groupby('main_category ').count()\n",
    "del category_list['name ']\n",
    "del category_list['category ']\n",
    "del category_list['state ']\n",
    "del category_list['deadline ']\n",
    "del category_list['currency ']\n",
    "del category_list['goal ']\n",
    "del category_list['launched ']\n",
    "del category_list['pledged ']\n",
    "del category_list['backers ']\n",
    "del category_list['country ']\n",
    "del category_list['bl_states']"
   ]
  },
  {
   "cell_type": "code",
   "execution_count": 51,
   "metadata": {},
   "outputs": [
    {
     "data": {
      "text/plain": [
       "<matplotlib.axes._subplots.AxesSubplot at 0x7f65715efa10>"
      ]
     },
     "execution_count": 51,
     "metadata": {},
     "output_type": "execute_result"
    },
    {
     "data": {
      "text/plain": [
       "<matplotlib.figure.Figure at 0x7f657123d050>"
      ]
     },
     "metadata": {},
     "output_type": "display_data"
    },
    {
     "data": {
      "image/png": "[encoded data removed]",
      "text/plain": [
       "<matplotlib.figure.Figure at 0x7f657123d350>"
      ]
     },
     "metadata": {},
     "output_type": "display_data"
    }
   ],
   "source": [
    "plt.figure(); \n",
    "category_list.plot(kind='bar')"
   ]
  },
  {
   "cell_type": "markdown",
   "metadata": {},
   "source": [
    "The frequency chart for the 'main_categories' variable shows a good variety of different types of projects. It seems like Kickstarter has a lot of projects for creative pursuits. The three largest categories are Film & Video, Music, and Publishing. The only category that isn't really considered a creative pursuit would be the Technology category. "
   ]
  },
  {
   "cell_type": "code",
   "execution_count": 52,
   "metadata": {
    "collapsed": true
   },
   "outputs": [],
   "source": [
    "#looking at projects based upon state of success\n",
    "state_list = df.groupby('state ').count()\n",
    "del state_list['name ']\n",
    "del state_list['category ']\n",
    "del state_list['main_category ']\n",
    "del state_list['deadline ']\n",
    "del state_list['currency ']\n",
    "del state_list['goal ']\n",
    "del state_list['launched ']\n",
    "del state_list['pledged ']\n",
    "del state_list['backers ']\n",
    "del state_list['country ']\n",
    "del state_list['bl_states']"
   ]
  },
  {
   "cell_type": "code",
   "execution_count": 53,
   "metadata": {},
   "outputs": [
    {
     "data": {
      "text/plain": [
       "<matplotlib.axes._subplots.AxesSubplot at 0x7f65747c7d50>"
      ]
     },
     "execution_count": 53,
     "metadata": {},
     "output_type": "execute_result"
    },
    {
     "data": {
      "text/plain": [
       "<matplotlib.figure.Figure at 0x7f65747b3150>"
      ]
     },
     "metadata": {},
     "output_type": "display_data"
    },
    {
     "data": {
      "image/png": "[encoded data removed]",
      "text/plain": [
       "<matplotlib.figure.Figure at 0x7f6574535650>"
      ]
     },
     "metadata": {},
     "output_type": "display_data"
    }
   ],
   "source": [
    "plt.figure(); \n",
    "state_list.plot(kind='bar')"
   ]
  },
  {
   "cell_type": "markdown",
   "metadata": {},
   "source": [
    "The 'state' variable is a critical metric for success - it basically represents the situation where the value for 'pledged' is greater than the value for 'goal'. The visualization reveals that even though over half of the projects failed, about a third of the projects were successful. Furthermore, canceled projects is a significant minority of the total number of projects. Finally, live projects and suspended projects both comprise a tiny fraction of the total. "
   ]
  },
  {
   "cell_type": "markdown",
   "metadata": {},
   "source": [
    "## Visualize Relationships Between Attributes:"
   ]
  },
  {
   "cell_type": "code",
   "execution_count": 54,
   "metadata": {
    "collapsed": true
   },
   "outputs": [],
   "source": [
    "#looking at the relationship between success and fundraising goal\n",
    "mean_by_state = df.groupby(['state ']).mean()\n",
    "mean_by_state_goal = mean_by_state['goal ']"
   ]
  },
  {
   "cell_type": "code",
   "execution_count": 55,
   "metadata": {},
   "outputs": [
    {
     "name": "stdout",
     "output_type": "stream",
     "text": [
      "state \n",
      "canceled       88007.605265\n",
      "failed         63484.142409\n",
      "live           64116.569783\n",
      "successful      9624.572525\n",
      "suspended     217609.439783\n",
      "Name: goal , dtype: float64\n"
     ]
    },
    {
     "data": {
      "image/png": "[encoded data removed]",
      "text/plain": [
       "<matplotlib.figure.Figure at 0x7f6574762850>"
      ]
     },
     "metadata": {},
     "output_type": "display_data"
    }
   ],
   "source": [
    "plt.figure(); \n",
    "mean_by_state_goal.plot(kind='bar')\n",
    "print(mean_by_state_goal)"
   ]
  },
  {
   "cell_type": "markdown",
   "metadata": {},
   "source": [
    "Logically, it makes sense that the lower you set your goal, the easier it is to meet. That is why we decided to start our investigation here. It is clear from the above graph that there is an inverse relationship between the success of a project and the fundraising goal. In other words, a project is more likely to succeed if it sets a lower fundraising goal. A successful project has an average goal of 9,624 while a failed project has an average goal of 63,484. However, because the average is affected by outliers, it is worth examining the spread of the values for the various states of success."
   ]
  },
  {
   "cell_type": "code",
   "execution_count": 56,
   "metadata": {},
   "outputs": [
    {
     "data": {
      "image/png": "[encoded data removed]",
      "text/plain": [
       "<matplotlib.figure.Figure at 0x7f65747e3b10>"
      ]
     },
     "metadata": {},
     "output_type": "display_data"
    }
   ],
   "source": [
    "df.groupby(['state ']).boxplot(column=['goal '], figsize=(12,8))\n",
    "plt.tight_layout()"
   ]
  },
  {
   "cell_type": "markdown",
   "metadata": {},
   "source": [
    "The boxplots show that there are some extreme outliers that really impact the averages for outcomes that are not success. In fact, the success outcome is the only one out of the five that has no significant outliers. "
   ]
  },
  {
   "cell_type": "code",
   "execution_count": 21,
   "metadata": {},
   "outputs": [],
   "source": [
    "#looking at the relationship between success and the number of backers a project has\n",
    "mean_by_state = df.groupby(['state ']).mean()\n",
    "mean_by_state_backers = mean_by_state['backers ']"
   ]
  },
  {
   "cell_type": "code",
   "execution_count": 4,
   "metadata": {},
   "outputs": [
    {
     "name": "stdout",
     "output_type": "stream",
     "text": [
      "state \n",
      "canceled       25.182484\n",
      "failed         16.771230\n",
      "live           80.330172\n",
      "successful    253.624322\n",
      "suspended     113.930311\n",
      "Name: backers , dtype: float64\n"
     ]
    },
    {
     "data": {
      "image/png": "[encoded data removed]",
      "text/plain": [
       "<matplotlib.figure.Figure at 0x7f65766cb510>"
      ]
     },
     "metadata": {},
     "output_type": "display_data"
    }
   ],
   "source": [
    "plt.figure(); \n",
    "mean_by_state_backers.plot(kind='bar')\n",
    "print(mean_by_state_backers)"
   ]
  },
  {
   "cell_type": "markdown",
   "metadata": {},
   "source": [
    "The next relationship we wanted to examine was the effect of number of backers on the success of the project. The graph provides evidence that successful projects have more backers which is what we expected. However, like in the previous relationship, we need to be careful of outliers. "
   ]
  },
  {
   "cell_type": "code",
   "execution_count": 23,
   "metadata": {},
   "outputs": [
    {
     "data": {
      "image/png": "[encoded data removed]",
      "text/plain": [
       "<matplotlib.figure.Figure at 0x7f65749285d0>"
      ]
     },
     "metadata": {},
     "output_type": "display_data"
    }
   ],
   "source": [
    "df.groupby(['state ']).boxplot(column=['backers '], figsize=(12,8))\n",
    "plt.tight_layout()"
   ]
  },
  {
   "cell_type": "markdown",
   "metadata": {},
   "source": [
    "The boxplots show that successful projects have a lot of variability regarding the number of backers. This makes sense as some projects will only attract the minimum number of backers needed to raise enough money while the projects that succeed far beyond expectations are more likely to have thousands of backers. Furthermore, it is highly unlikely that a failed project will attract a large number of backers since the number of backers is related to a project's success. "
   ]
  },
  {
   "cell_type": "code",
   "execution_count": 31,
   "metadata": {},
   "outputs": [],
   "source": [
    "#looking at the relationship between backers and category\n",
    "by_category = df.groupby(['main_category ']).mean()\n",
    "by_category = by_category['backers ']"
   ]
  },
  {
   "cell_type": "code",
   "execution_count": 32,
   "metadata": {},
   "outputs": [
    {
     "name": "stdout",
     "output_type": "stream",
     "text": [
      "main_category \n",
      "Art              39.444194\n",
      "Comics          134.231728\n",
      "Crafts           26.949735\n",
      "Dance            43.245328\n",
      "Design          237.516679\n",
      "Fashion          62.275695\n",
      "Film & Video     67.474449\n",
      "Food             54.366733\n",
      "Games           324.164976\n",
      "Journalism       38.332514\n",
      "Music            53.934183\n",
      "Photography      37.368830\n",
      "Publishing       53.019521\n",
      "Technology      165.733658\n",
      "Theater          47.422892\n",
      "Name: backers , dtype: float64\n"
     ]
    },
    {
     "data": {
      "image/png": "[encoded data removed]",
      "text/plain": [
       "<matplotlib.figure.Figure at 0x7f6568d87dd0>"
      ]
     },
     "metadata": {},
     "output_type": "display_data"
    }
   ],
   "source": [
    "plt.figure(); \n",
    "by_category.plot(kind='bar')\n",
    "print(by_category)"
   ]
  },
  {
   "cell_type": "markdown",
   "metadata": {},
   "source": [
    "Another relationship that we wanted to look at was the popularity of the categories which can be measured by the average number of backers for a project in said category. The categories that had the highest number of backers on average were Games, Design, and Technology. It is also interesting Film & Video, Music, and Publishing had the largest number of products, but are average regarding the average number of backers. "
   ]
  },
  {
   "cell_type": "code",
   "execution_count": 34,
   "metadata": {},
   "outputs": [],
   "source": [
    "#looking at the relationship between amount pledged and country\n",
    "by_country = df.groupby(['country ']).mean()\n",
    "by_country = by_country['pledged ']"
   ]
  },
  {
   "cell_type": "code",
   "execution_count": 33,
   "metadata": {},
   "outputs": [
    {
     "name": "stdout",
     "output_type": "stream",
     "text": [
      "country \n",
      "AT       9952.875915\n",
      "AU       6539.322473\n",
      "BE       6101.848632\n",
      "CA       7343.379632\n",
      "CH      11320.132489\n",
      "DE       7841.622414\n",
      "DK      39867.797430\n",
      "ES       4287.385007\n",
      "FR      10338.749995\n",
      "GB       4451.430196\n",
      "HK      71812.480722\n",
      "IE       4303.505043\n",
      "IT       4546.475686\n",
      "LU       3498.767500\n",
      "MX      18214.613972\n",
      "N,\"0    14294.195489\n",
      "NL       6075.453603\n",
      "NO      27384.302471\n",
      "NZ       6043.600370\n",
      "SE      47688.887967\n",
      "SG      13367.732101\n",
      "US       9076.312240\n",
      "Name: pledged , dtype: float64\n"
     ]
    },
    {
     "data": {
      "image/png": "[encoded data removed]",
      "text/plain": [
       "<matplotlib.figure.Figure at 0x7f6568df27d0>"
      ]
     },
     "metadata": {},
     "output_type": "display_data"
    }
   ],
   "source": [
    "plt.figure(); \n",
    "by_country.plot(kind='bar')\n",
    "print(by_country)"
   ]
  },
  {
   "cell_type": "markdown",
   "metadata": {},
   "source": [
    "The last relationship that we looked at was between the average amount pledged per project and the country. The countries with the highest averages are Hong Kong, Denmark, Sweden, and Norway. Therefore, if someone wanted to maximize their chances of raising money through Kickstarter, starting a project in these countries would make the most sense. As before, these are averages, so we want to expand our knowledge of what is going on by looking at variability between countries. "
   ]
  },
  {
   "cell_type": "code",
   "execution_count": 39,
   "metadata": {},
   "outputs": [
    {
     "data": {
      "image/png": "[encoded data removed]",
      "text/plain": [
       "<matplotlib.figure.Figure at 0x7f1160567c50>"
      ]
     },
     "metadata": {},
     "output_type": "display_data"
    }
   ],
   "source": [
    "plt.scatter(df['country '], df['pledged '])\n",
    "plt.show()"
   ]
  },
  {
   "cell_type": "markdown",
   "metadata": {},
   "source": [
    "The reason we used a scatterplot as opposed to a boxplot to look at variability is due to the number of elements we are observing. We felt that there were too many countries for a boxplot to be effective in making comparisons. While we did lose some information by switching to a scatterplot, we felt that it was simply far easier to use. \n",
    "\n",
    "However, it still reveals some interesting things. Most notably, the US has some projects that have raised a ridiculous amount of money. Some other notable countries with very successful projects are Canada, Denmark, UK, and Sweden. Based on this graph and the previous one, it seems like Denmark and Sweden would be great places to raise money through Kickstarter. "
   ]
  },
  {
   "cell_type": "markdown",
   "metadata": {},
   "source": [
    "## Interesting Relationships:"
   ]
  },
  {
   "cell_type": "markdown",
   "metadata": {},
   "source": [
    "There were two features in this dataset that were of particular interest. \n",
    "\n",
    "The first feature is the popularity of a project based upon it category and measured by the average number of backers. The three most popular categories for Kickstarter projects were Games, Design, and Technology. Since the number of backers is related to how successful your project is, it makes sense to use Kickstarter if you are trying to raise money for a project in one of these categories. \n",
    "\n",
    "The second interesting feature is the average amount pledged to a project by country. Sweden and Denmark both had high averages as well as a few high outliers meaning they are reliable places to raise money. The United States, while having a low average, had some extremely high outliers meaning that there is a higher chance of failure but also the chance of making it big. "
   ]
  },
  {
   "cell_type": "markdown",
   "metadata": {},
   "source": [
    "## Other Features:"
   ]
  },
  {
   "cell_type": "markdown",
   "metadata": {},
   "source": [
    "One feature that could be interesting to investigate (as well as being one that we can add) is the difference between a person's goal and how much money they managed to raise. This would allow us to look at the degree of failure/success thus providing greater intsight into what kind of projects are worth pursuing. \n",
    "\n",
    "Another feature that we could add would be how fast a project reaches its goal from the moment of its inception. This could provide another measure of popularity since popular things tend to catch on quickly. Ultimately, any measurement that would help us predict whether or not a project will be successful would be worth adding.  "
   ]
  },
  {
   "cell_type": "markdown",
   "metadata": {},
   "source": [
    "## Attempt at PCA:"
   ]
  },
  {
   "cell_type": "markdown",
   "metadata": {},
   "source": [
    "An attempt to run PCA was made however due to time constraint, process was not completed and we did not feel like we had anything substantial to show at this point."
   ]
  }
 ],
 "metadata": {
  "kernelspec": {
   "display_name": "Python 3",
   "language": "python",
   "name": "python3"
  },
  "language_info": {
   "codemirror_mode": {
    "name": "ipython",
    "version": 3
   },
   "file_extension": ".py",
   "mimetype": "text/x-python",
   "name": "python",
   "nbconvert_exporter": "python",
   "pygments_lexer": "ipython3",
   "version": "3.6.5"
  }
 },
 "nbformat": 4,
 "nbformat_minor": 2
}
